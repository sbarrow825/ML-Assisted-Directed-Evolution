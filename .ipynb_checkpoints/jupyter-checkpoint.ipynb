{
 "cells": [
  {
   "cell_type": "code",
   "execution_count": 10,
   "metadata": {},
   "outputs": [
    {
     "name": "stdout",
     "output_type": "stream",
     "text": [
      "0.9843654020940633\n"
     ]
    },
    {
     "data": {
      "text/plain": [
       "array([105.71428571])"
      ]
     },
     "execution_count": 10,
     "metadata": {},
     "output_type": "execute_result"
    }
   ],
   "source": [
    "from sklearn.linear_model import LinearRegression\n",
    "\n",
    "# if you have some X and y data (X= training inputs, a matrix, y = training outputs, a vector)\n",
    "X = [[1,1,1],[1,3,1],[2,5,9],[5,0,0],[2,1,3]]\n",
    "y = [8,10,33,25,17]\n",
    "\n",
    "reg = LinearRegression() # create a new linear regression object\n",
    "reg.fit(X, y) # fit the X data to the y data using the linear regression strategy\n",
    "print(reg.score(X, y))\n",
    "reg.predict([[6, 4, 2]])\n",
    "\n"
   ]
  },
  {
   "cell_type": "code",
   "execution_count": 11,
   "metadata": {},
   "outputs": [],
   "source": [
    "def getData(num1, num2, num3):\n",
    "    return 5*num1 + 1*num2 + 2*num3"
   ]
  },
  {
   "cell_type": "code",
   "execution_count": 13,
   "metadata": {},
   "outputs": [
    {
     "name": "stdout",
     "output_type": "stream",
     "text": [
      "8\n",
      "10\n",
      "33\n",
      "25\n",
      "17\n"
     ]
    }
   ],
   "source": [
    "for set in [[1,1,1],[1,3,1],[2,5,9],[5,0,0],[2,1,3]]:\n",
    "    print(getData(*set))"
   ]
  },
  {
   "cell_type": "code",
   "execution_count": null,
   "metadata": {},
   "outputs": [],
   "source": []
  }
 ],
 "metadata": {
  "kernelspec": {
   "display_name": "Python 3",
   "language": "python",
   "name": "python3"
  },
  "language_info": {
   "codemirror_mode": {
    "name": "ipython",
    "version": 3
   },
   "file_extension": ".py",
   "mimetype": "text/x-python",
   "name": "python",
   "nbconvert_exporter": "python",
   "pygments_lexer": "ipython3",
   "version": "3.8.6"
  }
 },
 "nbformat": 4,
 "nbformat_minor": 4
}
